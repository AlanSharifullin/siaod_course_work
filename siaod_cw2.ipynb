{
 "cells": [
  {
   "cell_type": "code",
   "execution_count": 1,
   "id": "27d891ba-9e53-4dd9-acbe-e835b84ba745",
   "metadata": {},
   "outputs": [],
   "source": [
    "class stack:\n",
    "    \n",
    "    # Инициализация\n",
    "    def __init__(self):\n",
    "        self.items = []\n",
    "\n",
    "    #Проверка на пустоту\n",
    "    def is_empty(self):\n",
    "        return len(self.items) == 0\n",
    "        \n",
    "    # Добавление элемента с конца\n",
    "    def add(self, element):\n",
    "        return self.items.append(element)\n",
    "\n",
    "    # Извлечение элемента с конца\n",
    "    def pop(self):\n",
    "        if not self.is_empty():\n",
    "            return self.items.pop()\n",
    "        else:\n",
    "           # print('Стэк пустой')\n",
    "            pass\n",
    "            \n",
    "    # Просмотр элемента с конца\n",
    "    def peek(self):\n",
    "        if not self.is_empty():\n",
    "            return self.items[-1]\n",
    "        else:\n",
    "            # print('Cтэк пустой')\n",
    "            pass"
   ]
  },
  {
   "cell_type": "code",
   "execution_count": 2,
   "id": "b757c172-4eb3-4136-a747-92d0b17cb6f8",
   "metadata": {},
   "outputs": [],
   "source": [
    "class deque:\n",
    "    \n",
    "    # Инициализация\n",
    "    def __init__(self):\n",
    "        self.items = []\n",
    "        \n",
    "    # Проверка на пустоту\n",
    "    def is_empty(self):\n",
    "        return len(self.items) == 0\n",
    "\n",
    "    # Добавление элмента слева\n",
    "    def add_left(self, element):\n",
    "        self.items.insert(0, element)\n",
    "\n",
    "    # Добавление элемента справа\n",
    "    def add_right(self, element):\n",
    "        self.items.append(element)\n",
    "\n",
    "    # Извлечение элемента слева\n",
    "    def pop_left(self):\n",
    "        if not self.is_empty():\n",
    "            return self.items.pop(0)\n",
    "        else:\n",
    "            print('Дэк пустой')\n",
    "\n",
    "    # Извелечение элемента справа\n",
    "    def pop_right(self):\n",
    "        if not self.empty():\n",
    "            return self.items.pop()\n",
    "        else:\n",
    "            print('Дэк пустой')\n",
    "\n",
    "    # Просмотр элемента справа\n",
    "    def peek_right(self):\n",
    "        if not self.is_empty():\n",
    "            return self.items[-1]\n",
    "        else:\n",
    "            print('Дэк пустой')\n",
    "\n",
    "    # Просмотр элмента слева\n",
    "    def peek_left(self):\n",
    "        if not self.is_empty():\n",
    "            return self.items[0]\n",
    "        else:\n",
    "            print('Дэк пустой')"
   ]
  },
  {
   "cell_type": "code",
   "execution_count": 3,
   "id": "f0d70062-1282-4145-a8d9-7a4f9dec7db0",
   "metadata": {},
   "outputs": [],
   "source": [
    "def bin_search(arr, target):\n",
    "    i = 0\n",
    "    j = len(arr)-1\n",
    "    while i <= j:\n",
    "        k = (j+i)//2\n",
    "        if arr[k] < target:\n",
    "            i = k + 1\n",
    "        elif arr[k] > target:\n",
    "            j = k - 1\n",
    "        else:\n",
    "            return k\n",
    "    return -1"
   ]
  },
  {
   "cell_type": "code",
   "execution_count": 4,
   "id": "d27463d6-3a5a-4ee5-a0bd-855c74370239",
   "metadata": {},
   "outputs": [],
   "source": [
    "def quick_sort(arr):\n",
    "    if len(arr) <= 1:\n",
    "        return arr\n",
    "    else:\n",
    "        pivot = arr[len(arr)//2]\n",
    "        left = [x for x in arr if x < pivot]\n",
    "        mid = [x for x in arr if x == pivot]\n",
    "        right = [x for x in arr if x > pivot]\n",
    "    return quick_sort(left) + mid + quick_sort(right)"
   ]
  },
  {
   "cell_type": "code",
   "execution_count": 5,
   "id": "2f485661-96d0-4e48-b65a-dae088f49ea6",
   "metadata": {},
   "outputs": [],
   "source": [
    "# Класс хэш-таблицы \n",
    "class HashTable:\n",
    "    \n",
    "    # Инициализация\n",
    "    def __init__(self, size):\n",
    "        self.size = size\n",
    "        self.table = [None] * size\n",
    "        self.rand_nums = rand.sample(range(self.size), self.size)\n",
    "        \n",
    "    # Хэш функция\n",
    "    def hash_function(self, key):\n",
    "        return sum(ord(char) for char in key) % self.size\n",
    "\n",
    "    # Вставка в хэш таблицу\n",
    "    def insert(self, key, value):\n",
    "        index = self.hash_function(key) \n",
    "        # Метод рехэширования в случае коллизии\n",
    "        while self.table[index] is not None:\n",
    "            # Простое рехэширование\n",
    "            index = (index + 1) % self.size\n",
    "        \n",
    "        self.table[index] = [key, value]\n",
    "        \n",
    "    # Поиск по таблице\n",
    "    def search(self, key):\n",
    "        index = self.hash_function(key)\n",
    "        # Если занято, то рехэшируем ключи\n",
    "        while self.table[index] is not None:\n",
    "            if self.table[index][0] == key:\n",
    "                # Нашли\n",
    "                return self.table[index][1] \n",
    "            # Не нашли\n",
    "            index = (index + 1) % self.size\n",
    "                \n",
    "\n",
    "    # Удаление\n",
    "    def delete(self, key):\n",
    "        index = self.hash_function(key)\n",
    "        while self.table[index] is not None:\n",
    "            if self.table[index][0] == key:\n",
    "                self.table[index][1] = None\n",
    "            index = (index + 1) % self.size"
   ]
  },
  {
   "cell_type": "code",
   "execution_count": 6,
   "id": "3411b199-dec8-4982-b403-b2a133fe8510",
   "metadata": {},
   "outputs": [],
   "source": [
    "#!pip install pandas"
   ]
  },
  {
   "cell_type": "code",
   "execution_count": 7,
   "id": "80591a02-1ad1-4bdc-93f5-fe0cf289717a",
   "metadata": {},
   "outputs": [],
   "source": [
    "import pandas as pd"
   ]
  },
  {
   "cell_type": "code",
   "execution_count": 8,
   "id": "968b0e4d-5006-4f24-a969-d8f9a436e08f",
   "metadata": {},
   "outputs": [],
   "source": [
    "table = pd.read_csv('report.csv')"
   ]
  },
  {
   "cell_type": "code",
   "execution_count": 9,
   "id": "e3cf63df-423e-4c96-9795-286dad9c7a58",
   "metadata": {},
   "outputs": [
    {
     "data": {
      "text/html": [
       "<div>\n",
       "<style scoped>\n",
       "    .dataframe tbody tr th:only-of-type {\n",
       "        vertical-align: middle;\n",
       "    }\n",
       "\n",
       "    .dataframe tbody tr th {\n",
       "        vertical-align: top;\n",
       "    }\n",
       "\n",
       "    .dataframe thead th {\n",
       "        text-align: right;\n",
       "    }\n",
       "</style>\n",
       "<table border=\"1\" class=\"dataframe\">\n",
       "  <thead>\n",
       "    <tr style=\"text-align: right;\">\n",
       "      <th></th>\n",
       "      <th>номер заказа</th>\n",
       "      <th>дата заказа</th>\n",
       "      <th>название товара</th>\n",
       "      <th>категория товара</th>\n",
       "      <th>количество продаж</th>\n",
       "      <th>цена за единицу</th>\n",
       "      <th>общая стоимость</th>\n",
       "    </tr>\n",
       "  </thead>\n",
       "  <tbody>\n",
       "    <tr>\n",
       "      <th>0</th>\n",
       "      <td>1</td>\n",
       "      <td>2024-05-13</td>\n",
       "      <td>Молоко</td>\n",
       "      <td>Молочные продукты</td>\n",
       "      <td>543</td>\n",
       "      <td>2.5</td>\n",
       "      <td>1357.5</td>\n",
       "    </tr>\n",
       "    <tr>\n",
       "      <th>1</th>\n",
       "      <td>2</td>\n",
       "      <td>2024-05-13</td>\n",
       "      <td>Хлеб</td>\n",
       "      <td>Хлебобулочные изделия</td>\n",
       "      <td>189</td>\n",
       "      <td>1.2</td>\n",
       "      <td>226.8</td>\n",
       "    </tr>\n",
       "    <tr>\n",
       "      <th>2</th>\n",
       "      <td>3</td>\n",
       "      <td>2024-05-14</td>\n",
       "      <td>Яйца</td>\n",
       "      <td>Молочные продукты</td>\n",
       "      <td>749</td>\n",
       "      <td>0.3</td>\n",
       "      <td>224.7</td>\n",
       "    </tr>\n",
       "    <tr>\n",
       "      <th>3</th>\n",
       "      <td>4</td>\n",
       "      <td>2024-05-14</td>\n",
       "      <td>Масло</td>\n",
       "      <td>Молочные продукты</td>\n",
       "      <td>238</td>\n",
       "      <td>3.0</td>\n",
       "      <td>714.0</td>\n",
       "    </tr>\n",
       "    <tr>\n",
       "      <th>4</th>\n",
       "      <td>5</td>\n",
       "      <td>2024-05-15</td>\n",
       "      <td>Сахар</td>\n",
       "      <td>Бакалея</td>\n",
       "      <td>474</td>\n",
       "      <td>1.0</td>\n",
       "      <td>474.0</td>\n",
       "    </tr>\n",
       "  </tbody>\n",
       "</table>\n",
       "</div>"
      ],
      "text/plain": [
       "   номер заказа дата заказа название товара       категория товара  \\\n",
       "0             1  2024-05-13          Молоко      Молочные продукты   \n",
       "1             2  2024-05-13            Хлеб  Хлебобулочные изделия   \n",
       "2             3  2024-05-14            Яйца      Молочные продукты   \n",
       "3             4  2024-05-14           Масло      Молочные продукты   \n",
       "4             5  2024-05-15           Сахар                Бакалея   \n",
       "\n",
       "   количество продаж  цена за единицу  общая стоимость  \n",
       "0                543              2.5           1357.5  \n",
       "1                189              1.2            226.8  \n",
       "2                749              0.3            224.7  \n",
       "3                238              3.0            714.0  \n",
       "4                474              1.0            474.0  "
      ]
     },
     "execution_count": 9,
     "metadata": {},
     "output_type": "execute_result"
    }
   ],
   "source": [
    "table.head()"
   ]
  },
  {
   "cell_type": "code",
   "execution_count": 10,
   "id": "3550c15e-b3ed-4e7d-a79e-594f961c2b46",
   "metadata": {},
   "outputs": [
    {
     "data": {
      "text/plain": [
       "номер заказа         0\n",
       "дата заказа          0\n",
       "название товара      0\n",
       "категория товара     0\n",
       "количество продаж    0\n",
       "цена за единицу      0\n",
       "общая стоимость      0\n",
       "dtype: int64"
      ]
     },
     "execution_count": 10,
     "metadata": {},
     "output_type": "execute_result"
    }
   ],
   "source": [
    "# Проверим ошибки ввода. То есть значения в таблице\n",
    "\n",
    "# Пропусков нет\n",
    "table.isna().sum()"
   ]
  },
  {
   "cell_type": "code",
   "execution_count": 11,
   "id": "d302c607-f719-4870-8f67-21af3590ae39",
   "metadata": {},
   "outputs": [
    {
     "data": {
      "text/plain": [
       "array(['Молочные продукты', 'Хлебобулочные изделия', 'Бакалея', 'Овощи',\n",
       "       'Мясные продукты', 'Фрукты', 'Морепродукты',\n",
       "       'Кондитерские изделия', 'Напитки', 'Крупы',\n",
       "       'Замороженные продукты', 'Консервы', 'Фаршированные продукты',\n",
       "       'Мороженое'], dtype=object)"
      ]
     },
     "execution_count": 11,
     "metadata": {},
     "output_type": "execute_result"
    }
   ],
   "source": [
    "# С категориями все в порядке\n",
    "table['категория товара'].unique()"
   ]
  },
  {
   "cell_type": "code",
   "execution_count": 12,
   "id": "80d79d49-33ca-43da-8e28-948158d43f42",
   "metadata": {},
   "outputs": [
    {
     "data": {
      "text/plain": [
       "100"
      ]
     },
     "execution_count": 12,
     "metadata": {},
     "output_type": "execute_result"
    }
   ],
   "source": [
    "# С товарами все в порядке\n",
    "table['название товара'].nunique()"
   ]
  },
  {
   "cell_type": "code",
   "execution_count": 13,
   "id": "3704a5ec-02b7-46e1-a56c-3df8327d79ba",
   "metadata": {},
   "outputs": [],
   "source": [
    "# Ошибок нет и не могло быть, так что обработка не требуется"
   ]
  },
  {
   "cell_type": "code",
   "execution_count": 14,
   "id": "bf6ca841-d50c-4c78-832c-2978919cdca6",
   "metadata": {},
   "outputs": [
    {
     "name": "stdout",
     "output_type": "stream",
     "text": [
      "-1\n"
     ]
    }
   ],
   "source": [
    "# Проверка на наличие номера заказа с помощью алгоритма бинарного поиска\n",
    "print(bin_search(table['номер заказа'], 1231))"
   ]
  },
  {
   "cell_type": "code",
   "execution_count": 15,
   "id": "ab7b1c23-06af-42ae-84b0-707e05baeccd",
   "metadata": {},
   "outputs": [
    {
     "name": "stdout",
     "output_type": "stream",
     "text": [
      "номер заказа                 69\n",
      "дата заказа          2024-06-16\n",
      "название товара          Патока\n",
      "категория товара        Бакалея\n",
      "количество продаж           360\n",
      "цена за единицу             4.0\n",
      "общая стоимость          1440.0\n",
      "Name: 68, dtype: object\n"
     ]
    }
   ],
   "source": [
    "k = bin_search(table['номер заказа'], 69)\n",
    "print(table.iloc[k])"
   ]
  },
  {
   "cell_type": "code",
   "execution_count": 16,
   "id": "547ec4df-d6e9-463b-84a5-60a18a103dd9",
   "metadata": {},
   "outputs": [],
   "source": [
    "total_sum = table['общая стоимость'].sum()"
   ]
  },
  {
   "cell_type": "code",
   "execution_count": 36,
   "id": "cd474f76-9147-42a6-9822-87e5924de9ae",
   "metadata": {},
   "outputs": [
    {
     "name": "stdout",
     "output_type": "stream",
     "text": [
      "Общая выручка магазина составила 112855.1 руб.\n"
     ]
    }
   ],
   "source": [
    "# Общая выручка магазина\n",
    "print(f'Общая выручка магазина составила {total_sum} руб.')"
   ]
  },
  {
   "cell_type": "code",
   "execution_count": 18,
   "id": "a44d2a05-b3fb-46e5-81d7-8646ee5e761e",
   "metadata": {},
   "outputs": [
    {
     "name": "stdout",
     "output_type": "stream",
     "text": [
      "название товара      Мороженая кукуруза\n",
      "количество продаж                   999\n",
      "Name: 86, dtype: object\n"
     ]
    }
   ],
   "source": [
    "# Поиск товара, проданного больше всего раз с помощью стэка\n",
    "amount = table[['название товара', 'количество продаж']]\n",
    "s = stack()\n",
    "s.add(amount.iloc[0])\n",
    "\n",
    "for i in range(len(amount)):\n",
    "    if s.peek()['количество продаж'] < amount['количество продаж'][i]:\n",
    "        s.add(amount.iloc[i])\n",
    "        \n",
    "print(s.peek())"
   ]
  },
  {
   "cell_type": "code",
   "execution_count": 19,
   "id": "ff4476ea-7028-47aa-b19e-595471424266",
   "metadata": {},
   "outputs": [
    {
     "name": "stdout",
     "output_type": "stream",
     "text": [
      "название товара    Красная рыба\n",
      "общая стоимость          8100.0\n",
      "Name: 42, dtype: object\n"
     ]
    }
   ],
   "source": [
    "# Поиск товара, который принес наибольшую выручку с помощью дэка\n",
    "amount = table[['название товара', 'общая стоимость']]\n",
    "d = deque()\n",
    "d.add_right(amount.iloc[0])\n",
    "\n",
    "for i in range(len(amount)):\n",
    "    if d.peek_right()['общая стоимость'] < amount['общая стоимость'][i]:\n",
    "        d.add_right(amount.iloc[i])\n",
    "        \n",
    "print(d.peek_right())"
   ]
  },
  {
   "cell_type": "code",
   "execution_count": 20,
   "id": "28e34f70-89de-410e-ae1c-8edd10c1bdd5",
   "metadata": {},
   "outputs": [],
   "source": [
    "table['доля в выручке в %'] = table['общая стоимость'] * 100 / total_sum"
   ]
  },
  {
   "cell_type": "code",
   "execution_count": 21,
   "id": "23934f15-b0b1-4b78-9cb8-d058b0533945",
   "metadata": {},
   "outputs": [
    {
     "data": {
      "text/html": [
       "<div>\n",
       "<style scoped>\n",
       "    .dataframe tbody tr th:only-of-type {\n",
       "        vertical-align: middle;\n",
       "    }\n",
       "\n",
       "    .dataframe tbody tr th {\n",
       "        vertical-align: top;\n",
       "    }\n",
       "\n",
       "    .dataframe thead th {\n",
       "        text-align: right;\n",
       "    }\n",
       "</style>\n",
       "<table border=\"1\" class=\"dataframe\">\n",
       "  <thead>\n",
       "    <tr style=\"text-align: right;\">\n",
       "      <th></th>\n",
       "      <th>название товара</th>\n",
       "      <th>количество продаж</th>\n",
       "      <th>доля в выручке в %</th>\n",
       "    </tr>\n",
       "  </thead>\n",
       "  <tbody>\n",
       "    <tr>\n",
       "      <th>0</th>\n",
       "      <td>Молоко</td>\n",
       "      <td>543</td>\n",
       "      <td>1.202870</td>\n",
       "    </tr>\n",
       "    <tr>\n",
       "      <th>1</th>\n",
       "      <td>Хлеб</td>\n",
       "      <td>189</td>\n",
       "      <td>0.200966</td>\n",
       "    </tr>\n",
       "    <tr>\n",
       "      <th>2</th>\n",
       "      <td>Яйца</td>\n",
       "      <td>749</td>\n",
       "      <td>0.199105</td>\n",
       "    </tr>\n",
       "    <tr>\n",
       "      <th>3</th>\n",
       "      <td>Масло</td>\n",
       "      <td>238</td>\n",
       "      <td>0.632670</td>\n",
       "    </tr>\n",
       "    <tr>\n",
       "      <th>4</th>\n",
       "      <td>Сахар</td>\n",
       "      <td>474</td>\n",
       "      <td>0.420008</td>\n",
       "    </tr>\n",
       "    <tr>\n",
       "      <th>...</th>\n",
       "      <td>...</td>\n",
       "      <td>...</td>\n",
       "      <td>...</td>\n",
       "    </tr>\n",
       "    <tr>\n",
       "      <th>95</th>\n",
       "      <td>Какао</td>\n",
       "      <td>110</td>\n",
       "      <td>0.243675</td>\n",
       "    </tr>\n",
       "    <tr>\n",
       "      <th>96</th>\n",
       "      <td>Пиво</td>\n",
       "      <td>652</td>\n",
       "      <td>0.866598</td>\n",
       "    </tr>\n",
       "    <tr>\n",
       "      <th>97</th>\n",
       "      <td>Говядина</td>\n",
       "      <td>845</td>\n",
       "      <td>5.241234</td>\n",
       "    </tr>\n",
       "    <tr>\n",
       "      <th>98</th>\n",
       "      <td>Помидорная паста</td>\n",
       "      <td>142</td>\n",
       "      <td>0.251650</td>\n",
       "    </tr>\n",
       "    <tr>\n",
       "      <th>99</th>\n",
       "      <td>Гранат</td>\n",
       "      <td>312</td>\n",
       "      <td>0.552921</td>\n",
       "    </tr>\n",
       "  </tbody>\n",
       "</table>\n",
       "<p>100 rows × 3 columns</p>\n",
       "</div>"
      ],
      "text/plain": [
       "     название товара  количество продаж  доля в выручке в %\n",
       "0             Молоко                543            1.202870\n",
       "1               Хлеб                189            0.200966\n",
       "2               Яйца                749            0.199105\n",
       "3              Масло                238            0.632670\n",
       "4              Сахар                474            0.420008\n",
       "..               ...                ...                 ...\n",
       "95             Какао                110            0.243675\n",
       "96              Пиво                652            0.866598\n",
       "97          Говядина                845            5.241234\n",
       "98  Помидорная паста                142            0.251650\n",
       "99            Гранат                312            0.552921\n",
       "\n",
       "[100 rows x 3 columns]"
      ]
     },
     "execution_count": 21,
     "metadata": {},
     "output_type": "execute_result"
    }
   ],
   "source": [
    "# Количество единиц каждого проданного товара и доля в выручке\n",
    "table[['название товара', 'количество продаж', 'доля в выручке в %']]"
   ]
  },
  {
   "cell_type": "code",
   "execution_count": 22,
   "id": "9d06e0b3-42a8-4635-9dc5-0ee2a0e9803d",
   "metadata": {},
   "outputs": [
    {
     "data": {
      "text/plain": [
       "100.0"
      ]
     },
     "execution_count": 22,
     "metadata": {},
     "output_type": "execute_result"
    }
   ],
   "source": [
    "# Проверим на ошибки в выводе доли в выручке\n",
    "table['доля в выручке в %'].sum()"
   ]
  },
  {
   "cell_type": "code",
   "execution_count": 23,
   "id": "dfa37194-100e-42a3-b9e9-c7cf4cb76735",
   "metadata": {},
   "outputs": [],
   "source": [
    "# Погрешность из-за больших дробных частей, а так все верно"
   ]
  },
  {
   "cell_type": "code",
   "execution_count": 24,
   "id": "1d9bec3b-35d7-48b9-aeb4-020d1b19cca7",
   "metadata": {},
   "outputs": [],
   "source": [
    "import random as rand"
   ]
  },
  {
   "cell_type": "code",
   "execution_count": 25,
   "id": "ed4e0820-b035-4407-93bb-0f128b7e3a24",
   "metadata": {},
   "outputs": [],
   "source": [
    "# Используем хэш-таблицы для агрегирования выручки по категориям\n",
    "ht = HashTable(table['категория товара'].nunique())"
   ]
  },
  {
   "cell_type": "code",
   "execution_count": 26,
   "id": "630c9527-91a1-49ea-a56b-89ace37474dd",
   "metadata": {},
   "outputs": [],
   "source": [
    "for category in table['категория товара'].unique():\n",
    "    ht.insert(category, table[table['категория товара'] == category]['общая стоимость'].sum())"
   ]
  },
  {
   "cell_type": "code",
   "execution_count": 27,
   "id": "55e110d4-f289-4c17-8624-1579ecbe8f44",
   "metadata": {},
   "outputs": [
    {
     "data": {
      "text/plain": [
       "9233.8"
      ]
     },
     "execution_count": 27,
     "metadata": {},
     "output_type": "execute_result"
    }
   ],
   "source": [
    "ht.search('Бакалея')"
   ]
  },
  {
   "cell_type": "code",
   "execution_count": 28,
   "id": "24fd860e-7141-4da8-9306-2b3fcf4d5186",
   "metadata": {},
   "outputs": [],
   "source": [
    "part = table[['название товара', 'доля в выручке в %']]"
   ]
  },
  {
   "cell_type": "code",
   "execution_count": 29,
   "id": "affdebe6-6f31-492d-9330-607b89370a06",
   "metadata": {},
   "outputs": [],
   "source": [
    "part = part.values.tolist()"
   ]
  },
  {
   "cell_type": "code",
   "execution_count": 30,
   "id": "d67e96dc-1388-401f-9459-d4df052a908c",
   "metadata": {},
   "outputs": [],
   "source": [
    "# Сортировка по алфавиту по алгоритму быстрой сортировки\n",
    "part = quick_sort(part)"
   ]
  },
  {
   "cell_type": "code",
   "execution_count": 31,
   "id": "11b5d7f2-3cef-483e-84a3-00fa77efbf02",
   "metadata": {},
   "outputs": [
    {
     "data": {
      "text/plain": [
       "[['Апельсины', 0.07124179589579913],\n",
       " ['Арахис', 0.8665979650011386],\n",
       " ['Бананы', 0.773558306181998],\n",
       " ['Бекон', 2.30428221675405],\n",
       " ['Бефстроганов', 1.3867339623995725],\n",
       " ['Брынза', 1.1058428019646431],\n",
       " ['Брынза сырая', 0.5086168015446355],\n",
       " ['Вино', 6.3089749599264895],\n",
       " ['Виноград', 0.48380622585953137],\n",
       " ['Вода', 0.310575242058179],\n",
       " ['Газировка', 1.277301601788488],\n",
       " ['Говядина', 5.2412341134782565],\n",
       " ['Гранат', 0.5529214009823216],\n",
       " ['Гречка', 0.04253241546017858],\n",
       " ['Грибы', 0.03615255314115179],\n",
       " ['Груши', 1.0271578333633127],\n",
       " ['Йогурт', 0.5874789885437166],\n",
       " ['Кабачки', 0.5377692279746329],\n",
       " ['Какао', 0.24367529690727313],\n",
       " ['Капуста', 0.06982404871379318],\n",
       " ['Капуста белокочанная', 0.0434185074489323],\n",
       " ['Капуста квашеная', 1.4886345411062503],\n",
       " ['Карась', 4.790213291202613],\n",
       " ['Картофель', 0.27513156250803017],\n",
       " ['Каша овсяная', 0.18085137490463435],\n",
       " ['Кефаль', 2.9019512631684345],\n",
       " ['Кефир', 1.0845765942345538],\n",
       " ['Кисломолочный напиток', 1.238756600277701],\n",
       " ['Колбаса', 0.1949402375258185],\n",
       " ['Консервы', 0.01993706974695871],\n",
       " ['Конфеты', 0.4607678341519346],\n",
       " ['Кофе', 0.2817772524236831],\n",
       " ['Красная рыба', 7.177345108905135],\n",
       " ['Красный перец', 0.08010271578333633],\n",
       " ['Креветки', 2.24358491552442],\n",
       " ['Крекеры', 0.7726722141932442],\n",
       " ['Кукуруза', 0.18253494968326642],\n",
       " ['Кукурузная крупа', 0.5114522959086475],\n",
       " ['Курага', 1.4762292532636982],\n",
       " ['Курица', 4.129188667592337],\n",
       " ['Лаваш', 0.661379060405777],\n",
       " ['Лимонад', 0.015949655797566967],\n",
       " ['Лимоны', 0.5874789885437166],\n",
       " ['Лосось', 2.25067365143445],\n",
       " ['Макароны', 0.5422882971172769],\n",
       " ['Макароны лапша', 1.1576791833067357],\n",
       " ['Мандариновый сок', 1.3557207427931923],\n",
       " ['Мандарины', 0.9856887282896387],\n",
       " ['Масло', 0.6326696799701564],\n",
       " ['Мед', 1.3362267190406105],\n",
       " ['Минеральная вода', 0.4820340418820239],\n",
       " ['Молоко', 1.2028698747331754],\n",
       " ['Морковь', 0.25271343519256106],\n",
       " ['Мороженая кукуруза', 2.6556176902949002],\n",
       " ['Мороженое', 1.334454535063103],\n",
       " ['Мука', 0.7751532717617546],\n",
       " ['Мясо говядины', 0.5529214009823216],\n",
       " ['Огурцы', 0.21159876691438845],\n",
       " ['Оливки', 0.47848967392700903],\n",
       " ['Орехи', 0.263169320659855],\n",
       " ['Пастернак', 0.049178105375831484],\n",
       " ['Патока', 1.2759724638053573],\n",
       " ['Пельмени', 1.1306533776497474],\n",
       " ['Персики', 0.16747138587445315],\n",
       " ['Печенье', 1.5382556924764588],\n",
       " ['Пиво', 0.8665979650011386],\n",
       " ['Помидорная паста', 0.2516501248060566],\n",
       " ['Помидоры', 0.5756053558944167],\n",
       " ['Редис', 0.02738024245248996],\n",
       " ['Рыба', 1.2219208524913805],\n",
       " ['Салат', 0.5215537445804398],\n",
       " ['Сахар', 0.42000760266926346],\n",
       " ['Свекла', 0.2440297337027746],\n",
       " ['Свинина', 0.7868496860133037],\n",
       " ['Семечки', 0.12095155646488284],\n",
       " ['Сливки', 0.2551944927610715],\n",
       " ['Сметана', 0.4541221442362817],\n",
       " ['Смородина', 0.17012966184071432],\n",
       " ['Смородина сушеная', 0.43064070653430814],\n",
       " ['Сок', 0.988878659449152],\n",
       " ['Сок яблочный', 1.061538202526957],\n",
       " ['Сыр', 0.8218503195690757],\n",
       " ['Творог', 1.0579938345719422],\n",
       " ['Творожные сырки', 0.2987902186077545],\n",
       " ['Томатная паста', 0.7593808343619384],\n",
       " ['Тунец', 0.6822908313403647],\n",
       " ['Тунец консервы', 1.616231787486786],\n",
       " ['Тушенка', 0.4807049038988933],\n",
       " ['Фасоль', 0.47494530597199414],\n",
       " ['Фасоль консервы', 1.0686269384369869],\n",
       " ['Филе куриное', 2.104468473290086],\n",
       " ['Хек', 3.29626219816384],\n",
       " ['Хлеб', 0.2009656630493438],\n",
       " ['Чай', 0.5033002496121132],\n",
       " ['Черешня', 1.3424293629618864],\n",
       " ['Шампиньоны', 0.03278540358388766],\n",
       " ['Шоколад', 0.4155771427254949],\n",
       " ['Шпроты', 0.7841914100470426],\n",
       " ['Яблоки', 0.2963977702381195],\n",
       " ['Яйца', 0.19910486987296097]]"
      ]
     },
     "execution_count": 31,
     "metadata": {},
     "output_type": "execute_result"
    }
   ],
   "source": [
    "part"
   ]
  },
  {
   "cell_type": "code",
   "execution_count": 32,
   "id": "8fcce075-dbb0-4beb-8cdd-b3d4f505349d",
   "metadata": {},
   "outputs": [
    {
     "data": {
      "text/html": [
       "<div>\n",
       "<style scoped>\n",
       "    .dataframe tbody tr th:only-of-type {\n",
       "        vertical-align: middle;\n",
       "    }\n",
       "\n",
       "    .dataframe tbody tr th {\n",
       "        vertical-align: top;\n",
       "    }\n",
       "\n",
       "    .dataframe thead th {\n",
       "        text-align: right;\n",
       "    }\n",
       "</style>\n",
       "<table border=\"1\" class=\"dataframe\">\n",
       "  <thead>\n",
       "    <tr style=\"text-align: right;\">\n",
       "      <th></th>\n",
       "      <th>название товара</th>\n",
       "      <th>доля в выручке в %</th>\n",
       "    </tr>\n",
       "  </thead>\n",
       "  <tbody>\n",
       "    <tr>\n",
       "      <th>42</th>\n",
       "      <td>Красная рыба</td>\n",
       "      <td>7.177345</td>\n",
       "    </tr>\n",
       "    <tr>\n",
       "      <th>24</th>\n",
       "      <td>Вино</td>\n",
       "      <td>6.308975</td>\n",
       "    </tr>\n",
       "    <tr>\n",
       "      <th>97</th>\n",
       "      <td>Говядина</td>\n",
       "      <td>5.241234</td>\n",
       "    </tr>\n",
       "    <tr>\n",
       "      <th>90</th>\n",
       "      <td>Карась</td>\n",
       "      <td>4.790213</td>\n",
       "    </tr>\n",
       "    <tr>\n",
       "      <th>17</th>\n",
       "      <td>Курица</td>\n",
       "      <td>4.129189</td>\n",
       "    </tr>\n",
       "    <tr>\n",
       "      <th>92</th>\n",
       "      <td>Хек</td>\n",
       "      <td>3.296262</td>\n",
       "    </tr>\n",
       "    <tr>\n",
       "      <th>25</th>\n",
       "      <td>Кефаль</td>\n",
       "      <td>2.901951</td>\n",
       "    </tr>\n",
       "    <tr>\n",
       "      <th>86</th>\n",
       "      <td>Мороженая кукуруза</td>\n",
       "      <td>2.655618</td>\n",
       "    </tr>\n",
       "    <tr>\n",
       "      <th>66</th>\n",
       "      <td>Бекон</td>\n",
       "      <td>2.304282</td>\n",
       "    </tr>\n",
       "    <tr>\n",
       "      <th>50</th>\n",
       "      <td>Лосось</td>\n",
       "      <td>2.250674</td>\n",
       "    </tr>\n",
       "  </tbody>\n",
       "</table>\n",
       "</div>"
      ],
      "text/plain": [
       "       название товара  доля в выручке в %\n",
       "42        Красная рыба            7.177345\n",
       "24                Вино            6.308975\n",
       "97            Говядина            5.241234\n",
       "90              Карась            4.790213\n",
       "17              Курица            4.129189\n",
       "92                 Хек            3.296262\n",
       "25              Кефаль            2.901951\n",
       "86  Мороженая кукуруза            2.655618\n",
       "66               Бекон            2.304282\n",
       "50              Лосось            2.250674"
      ]
     },
     "execution_count": 32,
     "metadata": {},
     "output_type": "execute_result"
    }
   ],
   "source": [
    "part = table[['название товара', 'доля в выручке в %']]\n",
    "part = part.sort_values(by='доля в выручке в %', ascending=False).head(10)\n",
    "part"
   ]
  },
  {
   "cell_type": "code",
   "execution_count": 33,
   "id": "43f0e113-1a39-45b5-baaf-11dee342c69d",
   "metadata": {},
   "outputs": [],
   "source": [
    "#!pip install matplotlib"
   ]
  },
  {
   "cell_type": "code",
   "execution_count": 46,
   "id": "724aba44-9c24-4f2f-8116-88fa78d8ad7d",
   "metadata": {},
   "outputs": [
    {
     "data": {
      "image/png": "[encoded data removed]",
      "text/plain": [
       "<Figure size 900x600 with 1 Axes>"
      ]
     },
     "metadata": {},
     "output_type": "display_data"
    }
   ],
   "source": [
    "import matplotlib.pyplot as plt\n",
    "\n",
    "fig = plt.figure()\n",
    "fig.set_size_inches(9, 6)\n",
    "plt.rcParams.update({'font.size': 6})\n",
    "plt.bar(part['название товара'], part['доля в выручке в %'])\n",
    "plt.title('ТОП 10 ТОВАРОВ')\n",
    "plt.xlabel('Название')\n",
    "plt.ylabel('Доля в выручке в %')\n",
    "plt.show()"
   ]
  },
  {
   "cell_type": "markdown",
   "id": "334b09dd-5ebd-429f-b350-5b22193e9e32",
   "metadata": {},
   "source": [
    "### Таким образом, вы выполнили все задания, использовав такие структуры данных как массив, стэк, дэк, хэш таблица, а также такие алгоритмы как быстрая сортировка, бинарный поискь"
   ]
  }
 ],
 "metadata": {
  "kernelspec": {
   "display_name": "Python 3 (ipykernel)",
   "language": "python",
   "name": "python3"
  },
  "language_info": {
   "codemirror_mode": {
    "name": "ipython",
    "version": 3
   },
   "file_extension": ".py",
   "mimetype": "text/x-python",
   "name": "python",
   "nbconvert_exporter": "python",
   "pygments_lexer": "ipython3",
   "version": "3.12.2"
  }
 },
 "nbformat": 4,
 "nbformat_minor": 5
}
